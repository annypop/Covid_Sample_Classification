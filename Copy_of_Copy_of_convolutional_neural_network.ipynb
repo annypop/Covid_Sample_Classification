{
 "cells": [
  {
   "cell_type": "markdown",
   "metadata": {
    "id": "3DR-eO17geWu"
   },
   "source": [
    "# Convolutional Neural Network"
   ]
  },
  {
   "cell_type": "markdown",
   "metadata": {
    "id": "EMefrVPCg-60"
   },
   "source": [
    "### Importing the libraries"
   ]
  },
  {
   "cell_type": "code",
   "execution_count": 1,
   "metadata": {
    "id": "1On3nArkdRZs"
   },
   "outputs": [
    {
     "ename": "ModuleNotFoundError",
     "evalue": "No module named 'tensorflow'",
     "output_type": "error",
     "traceback": [
      "\u001b[1;31m---------------------------------------------------------------------------\u001b[0m",
      "\u001b[1;31mModuleNotFoundError\u001b[0m                       Traceback (most recent call last)",
      "\u001b[1;32mC:\\Users\\ANKITS~1\\AppData\\Local\\Temp/ipykernel_3328/758898644.py\u001b[0m in \u001b[0;36m<module>\u001b[1;34m\u001b[0m\n\u001b[1;32m----> 1\u001b[1;33m \u001b[1;32mimport\u001b[0m \u001b[0mtensorflow\u001b[0m \u001b[1;32mas\u001b[0m \u001b[0mtf\u001b[0m\u001b[1;33m\u001b[0m\u001b[1;33m\u001b[0m\u001b[0m\n\u001b[0m\u001b[0;32m      2\u001b[0m \u001b[1;32mfrom\u001b[0m \u001b[0mkeras\u001b[0m\u001b[1;33m.\u001b[0m\u001b[0mpreprocessing\u001b[0m\u001b[1;33m.\u001b[0m\u001b[0mimage\u001b[0m \u001b[1;32mimport\u001b[0m \u001b[0mImageDataGenerator\u001b[0m\u001b[1;33m\u001b[0m\u001b[1;33m\u001b[0m\u001b[0m\n",
      "\u001b[1;31mModuleNotFoundError\u001b[0m: No module named 'tensorflow'"
     ]
    }
   ],
   "source": [
    "import tensorflow as tf\n",
    "from keras.preprocessing.image import ImageDataGenerator"
   ]
  },
  {
   "cell_type": "markdown",
   "metadata": {
    "id": "oxQxCBWyoGPE"
   },
   "source": [
    "## Part 1 - Data Preprocessing"
   ]
  },
  {
   "cell_type": "markdown",
   "metadata": {
    "id": "MvE-heJNo3GG"
   },
   "source": [
    "### Preprocessing the Training set"
   ]
  },
  {
   "cell_type": "code",
   "execution_count": 2,
   "metadata": {
    "id": "Sd3M8-aYdL8I"
   },
   "outputs": [
    {
     "name": "stdout",
     "output_type": "stream",
     "text": [
      "Found 5349 images belonging to 3 classes.\n"
     ]
    }
   ],
   "source": [
    "#train_datagen is a object of imagedatagenerator class \n",
    "#rescale is feature scaling \n",
    "#others are transformations and used to avoid overfitting\n",
    "train_datagen = ImageDataGenerator(\n",
    "        rescale=1./255,\n",
    "        shear_range=0.2,\n",
    "        zoom_range=0.2,\n",
    "        horizontal_flip=True)\n",
    "#training_set is name for data set for train\n",
    "#flow_from_directory is a method\n",
    "training_set = train_datagen.flow_from_directory(\n",
    "        'data/Train',\n",
    "        target_size=(64, 64),\n",
    "        batch_size=32,\n",
    "        class_mode='categorical')"
   ]
  },
  {
   "cell_type": "markdown",
   "metadata": {
    "id": "mrCMmGw9pHys"
   },
   "source": [
    "### Preprocessing the Test set"
   ]
  },
  {
   "cell_type": "code",
   "execution_count": 3,
   "metadata": {
    "id": "41FtD3zeuhO5"
   },
   "outputs": [
    {
     "name": "stdout",
     "output_type": "stream",
     "text": [
      "Found 1720 images belonging to 3 classes.\n"
     ]
    }
   ],
   "source": [
    "test_datagen = ImageDataGenerator(rescale=1./255)\n",
    "test_set = test_datagen.flow_from_directory(\n",
    "        'data/Test',\n",
    "        target_size=(64, 64),\n",
    "        batch_size=32,\n",
    "        class_mode='categorical')"
   ]
  },
  {
   "cell_type": "markdown",
   "metadata": {
    "id": "af8O4l90gk7B"
   },
   "source": [
    "## Part 2 - Building the CNN"
   ]
  },
  {
   "cell_type": "markdown",
   "metadata": {
    "id": "ces1gXY2lmoX"
   },
   "source": [
    "### Initialising the CNN"
   ]
  },
  {
   "cell_type": "code",
   "execution_count": 4,
   "metadata": {
    "id": "biTCZZ4knRqV"
   },
   "outputs": [],
   "source": [
    "#variable as a instance of the sequential class which allows to create a ann as a sequence of layers\n",
    "cnn=tf.keras.models.Sequential()"
   ]
  },
  {
   "cell_type": "markdown",
   "metadata": {
    "id": "u5YJj_XMl5LF"
   },
   "source": [
    "### Step 1 - Convolution"
   ]
  },
  {
   "cell_type": "code",
   "execution_count": 5,
   "metadata": {
    "id": "Cwvo0hJEoBg4"
   },
   "outputs": [],
   "source": [
    "cnn.add(tf.keras.layers.Conv2D(filters=32,kernel_size=3,activation='relu',input_shape=[64,64,3]))"
   ]
  },
  {
   "cell_type": "markdown",
   "metadata": {
    "id": "tf87FpvxmNOJ"
   },
   "source": [
    "### Step 2 - Pooling"
   ]
  },
  {
   "cell_type": "code",
   "execution_count": 6,
   "metadata": {
    "id": "kD0lIL00pQh8"
   },
   "outputs": [],
   "source": [
    "#maxpooling\n",
    "cnn.add(tf.keras.layers.MaxPool2D(pool_size=(2,2),strides=2))"
   ]
  },
  {
   "cell_type": "markdown",
   "metadata": {
    "id": "xaTOgD8rm4mU"
   },
   "source": [
    "### Adding a second convolutional layer"
   ]
  },
  {
   "cell_type": "code",
   "execution_count": 7,
   "metadata": {
    "id": "c6RCfZieqfIK"
   },
   "outputs": [],
   "source": [
    "cnn.add(tf.keras.layers.Conv2D(filters=32,kernel_size=3,activation='relu'))\n",
    "cnn.add(tf.keras.layers.MaxPool2D(pool_size=(2,2),strides=2))"
   ]
  },
  {
   "cell_type": "markdown",
   "metadata": {
    "id": "tmiEuvTunKfk"
   },
   "source": [
    "### Step 3 - Flattening"
   ]
  },
  {
   "cell_type": "code",
   "execution_count": 8,
   "metadata": {
    "id": "F9C2QixOrIUi"
   },
   "outputs": [],
   "source": [
    "cnn.add(tf.keras.layers.Flatten())"
   ]
  },
  {
   "cell_type": "markdown",
   "metadata": {
    "id": "dAoSECOm203v"
   },
   "source": [
    "### Step 4 - Full Connection"
   ]
  },
  {
   "cell_type": "code",
   "execution_count": 9,
   "metadata": {
    "id": "q3ttJ_lorezH"
   },
   "outputs": [],
   "source": [
    "# here unit is a number of neurons\n",
    "cnn.add(tf.keras.layers.Dense(units=128,activation='relu'))"
   ]
  },
  {
   "cell_type": "markdown",
   "metadata": {
    "id": "yTldFvbX28Na"
   },
   "source": [
    "### Step 5 - Output Layer"
   ]
  },
  {
   "cell_type": "code",
   "execution_count": 17,
   "metadata": {
    "id": "FQ1H3XoIr87v"
   },
   "outputs": [],
   "source": [
    "cnn.add(tf.keras.layers.Dense(units=3,activation='softmax'))"
   ]
  },
  {
   "cell_type": "markdown",
   "metadata": {
    "id": "D6XkI90snSDl"
   },
   "source": [
    "## Part 3 - Training the CNN"
   ]
  },
  {
   "cell_type": "markdown",
   "metadata": {
    "id": "vfrFQACEnc6i"
   },
   "source": [
    "### Compiling the CNN"
   ]
  },
  {
   "cell_type": "code",
   "execution_count": 18,
   "metadata": {
    "id": "as79J7Qysmvy"
   },
   "outputs": [],
   "source": [
    "cnn.compile(optimizer='adam',loss='categorical_crossentropy',metrics=['accuracy'])"
   ]
  },
  {
   "cell_type": "markdown",
   "metadata": {
    "id": "ehS-v3MIpX2h"
   },
   "source": [
    "### Training the CNN on the Training set and evaluating it on the Test set"
   ]
  },
  {
   "cell_type": "code",
   "execution_count": 19,
   "metadata": {
    "id": "XkFaP2jvtlfL"
   },
   "outputs": [
    {
     "name": "stdout",
     "output_type": "stream",
     "text": [
      "Epoch 1/25\n",
      "168/168 [==============================] - 81s 481ms/step - loss: 1.0628 - accuracy: 0.4334 - val_loss: 1.0283 - val_accuracy: 0.4360\n",
      "Epoch 2/25\n",
      "168/168 [==============================] - 41s 241ms/step - loss: 1.0168 - accuracy: 0.4334 - val_loss: 1.0010 - val_accuracy: 0.436024s - loss: 1.0262 - - ETA: 20s - loss: 1.0242 - acc - ETA: 17s - los - ETA: 11s -  - ETA: 3s\n",
      "Epoch 3/25\n",
      "168/168 [==============================] - 40s 236ms/step - loss: 1.0022 - accuracy: 0.4334 - val_loss: 0.9920 - val_accuracy: 0.4360ss: 1.0050 - - ETA: 15s - loss: 1.0058 - accuracy: 0.4 - ETA: \n",
      "Epoch 4/25\n",
      "168/168 [==============================] - 40s 235ms/step - loss: 0.9976 - accuracy: 0.4334 - val_loss: 0.9889 - val_accuracy: 0.4360 - ETA: 3s - - ETA: 0s - loss: 0.9981 - accura\n",
      "Epoch 5/25\n",
      "168/168 [==============================] - 39s 234ms/step - loss: 0.9964 - accuracy: 0.4261 - val_loss: 0.9878 - val_accuracy: 0.4360\n",
      "Epoch 6/25\n",
      "168/168 [==============================] - 39s 234ms/step - loss: 0.9960 - accuracy: 0.4328 - val_loss: 0.9874 - val_accuracy: 0.4360\n",
      "Epoch 7/25\n",
      "168/168 [==============================] - 41s 242ms/step - loss: 0.9960 - accuracy: 0.4199 - val_loss: 0.9873 - val_accuracy: 0.4360\n",
      "Epoch 8/25\n",
      "168/168 [==============================] - 39s 235ms/step - loss: 0.9959 - accuracy: 0.4334 - val_loss: 0.9872 - val_accuracy: 0.4360\n",
      "Epoch 9/25\n",
      "168/168 [==============================] - 39s 231ms/step - loss: 0.9959 - accuracy: 0.4334 - val_loss: 0.9872 - val_accuracy: 0.4360\n",
      "Epoch 10/25\n",
      "168/168 [==============================] - 39s 232ms/step - loss: 0.9959 - accuracy: 0.4244 - val_loss: 0.9872 - val_accuracy: 0.4360\n",
      "Epoch 11/25\n",
      "168/168 [==============================] - 39s 231ms/step - loss: 0.9960 - accuracy: 0.4274 - val_loss: 0.9871 - val_accuracy: 0.4360: 10s - - E - ETA: 2s - loss: 0.9 - ETA: 0s - loss: 0.9956 - accura\n",
      "Epoch 12/25\n",
      "168/168 [==============================] - 39s 233ms/step - loss: 0.9958 - accuracy: 0.4343 - val_loss: 0.9871 - val_accuracy: 0.4360uracy - ETA: 18s - loss: 0.9874 - accurac\n",
      "Epoch 13/25\n",
      "168/168 [==============================] - 40s 236ms/step - loss: 0.9959 - accuracy: 0.4341 - val_loss: 0.9871 - val_accuracy: 0.4360- loss: 0\n",
      "Epoch 14/25\n",
      "168/168 [==============================] - 38s 229ms/step - loss: 0.9960 - accuracy: 0.4311 - val_loss: 0.9873 - val_accuracy: 0.4360 - accuracy - ETA: 0s - loss: 0.9950 - accura\n",
      "Epoch 15/25\n",
      "168/168 [==============================] - 39s 230ms/step - loss: 0.9959 - accuracy: 0.4283 - val_loss: 0.9871 - val_accuracy: 0.4360\n",
      "Epoch 16/25\n",
      "168/168 [==============================] - 38s 229ms/step - loss: 0.9959 - accuracy: 0.4305 - val_loss: 0.9871 - val_accuracy: 0.4360loss: - ETA: 3s - loss: 0.9946 - accuracy - ETA: 3s\n",
      "Epoch 17/25\n",
      "168/168 [==============================] - 39s 232ms/step - loss: 0.9959 - accuracy: 0.4244 - val_loss: 0.9871 - val_accuracy: 0.4360\n",
      "Epoch 18/25\n",
      "168/168 [==============================] - 39s 230ms/step - loss: 0.9959 - accuracy: 0.4337 - val_loss: 0.9871 - val_accuracy: 0.4360\n",
      "Epoch 19/25\n",
      "168/168 [==============================] - 39s 232ms/step - loss: 0.9960 - accuracy: 0.4328 - val_loss: 0.9871 - val_accuracy: 0.4360\n",
      "Epoch 20/25\n",
      "168/168 [==============================] - 39s 230ms/step - loss: 0.9959 - accuracy: 0.4320 - val_loss: 0.9872 - val_accuracy: 0.4360\n",
      "Epoch 21/25\n",
      "168/168 [==============================] - 39s 231ms/step - loss: 0.9959 - accuracy: 0.4302 - val_loss: 0.9872 - val_accuracy: 0.4360\n",
      "Epoch 22/25\n",
      "168/168 [==============================] - 40s 237ms/step - loss: 0.9959 - accuracy: 0.4268 - val_loss: 0.9872 - val_accuracy: 0.4360\n",
      "Epoch 23/25\n",
      "168/168 [==============================] - 38s 227ms/step - loss: 0.9959 - accuracy: 0.4268 - val_loss: 0.9872 - val_accuracy: 0.4360\n",
      "Epoch 24/25\n",
      "168/168 [==============================] - 38s 224ms/step - loss: 0.9960 - accuracy: 0.4307 - val_loss: 0.9872 - val_accuracy: 0.4360\n",
      "Epoch 25/25\n",
      "168/168 [==============================] - 38s 225ms/step - loss: 0.9960 - accuracy: 0.4334 - val_loss: 0.9872 - val_accuracy: 0.4360\n"
     ]
    },
    {
     "data": {
      "text/plain": [
       "<keras.callbacks.History at 0x2e53ea03f10>"
      ]
     },
     "execution_count": 19,
     "metadata": {},
     "output_type": "execute_result"
    }
   ],
   "source": [
    "cnn.fit(x=training_set,validation_data=test_set,epochs=25)"
   ]
  },
  {
   "cell_type": "markdown",
   "metadata": {
    "id": "U3PZasO0006Z"
   },
   "source": [
    "## Part 4 - Making a single prediction"
   ]
  },
  {
   "cell_type": "code",
   "execution_count": 24,
   "metadata": {
    "id": "FZU1PqkSuxBc"
   },
   "outputs": [
    {
     "name": "stdout",
     "output_type": "stream",
     "text": [
      "0.13581504\n"
     ]
    }
   ],
   "source": [
    "import numpy as np\n",
    "from keras.preprocessing import image\n",
    "test_image=image.load_img('data/Valid/Cap/P_7_1.png',target_size=(64,64))\n",
    "#to convert image frome PIL format to array form\n",
    "test_image=image.img_to_array(test_image)\n",
    "#need to send in batch becz of training\n",
    "test_image=np.expand_dims(test_image,axis=0)\n",
    "result=cnn.predict(test_image/255.0)\n",
    "training_set.class_indices\n",
    "print(result[0][0])\n",
    "if result[0][0]>0.4:\n",
    "    prediction='dog'\n",
    "else:\n",
    "    prediction ='cat'"
   ]
  },
  {
   "cell_type": "code",
   "execution_count": 23,
   "metadata": {
    "id": "i9PdaNZnyrOJ"
   },
   "outputs": [
    {
     "name": "stdout",
     "output_type": "stream",
     "text": [
      "cat\n"
     ]
    }
   ],
   "source": [
    "print(prediction)"
   ]
  }
 ],
 "metadata": {
  "colab": {
   "collapsed_sections": [],
   "name": "Copy of Copy of convolutional_neural_network.ipynb",
   "provenance": []
  },
  "kernelspec": {
   "display_name": "Python 3 (ipykernel)",
   "language": "python",
   "name": "python3"
  },
  "language_info": {
   "codemirror_mode": {
    "name": "ipython",
    "version": 3
   },
   "file_extension": ".py",
   "mimetype": "text/x-python",
   "name": "python",
   "nbconvert_exporter": "python",
   "pygments_lexer": "ipython3",
   "version": "3.10.1"
  }
 },
 "nbformat": 4,
 "nbformat_minor": 1
}
